{
 "cells": [
  {
   "cell_type": "markdown",
   "id": "2a08e4ae",
   "metadata": {},
   "source": [
    "# Task 3\n",
    "\n",
    "<br>\n",
    "\n",
    "## problem 1\n",
    "\n",
    "### [1]\n",
    "<br>\n",
    "\n",
    "![img](images/IMG_20211124_004024.jpg)\n",
    "\n",
    "#### The data set for Finished homework II = 1\n",
    "\n",
    "![img](images/homework1.png)\n",
    "\n",
    "![img](images/IMG_20211124_004031.jpg)\n",
    "\n",
    "#### The data set for Finished homework II = 0\n",
    "\n",
    "![img](images/homework0.png)\n",
    "\n",
    "![img](images/IMG_20211124_004046.jpg)\n",
    "\n",
    "#### The data set for Likes Coffee = 0\n",
    "\n",
    "![img](images/coffee0.png)\n",
    "\n",
    "#### The data set for Early registration = 0\n",
    "\n",
    "![img](images/registiration0.png)\n",
    "\n",
    "![img](images/IMG_20211124_004052.jpg)"
   ]
  },
  {
   "cell_type": "markdown",
   "id": "200d78b9",
   "metadata": {},
   "source": [
    "### [2]\n",
    "\n",
    "We can use CART model because it can purnes the tree using a cost complexity model."
   ]
  }
 ],
 "metadata": {
  "kernelspec": {
   "display_name": "Python 3 (ipykernel)",
   "language": "python",
   "name": "python3"
  },
  "language_info": {
   "codemirror_mode": {
    "name": "ipython",
    "version": 3
   },
   "file_extension": ".py",
   "mimetype": "text/x-python",
   "name": "python",
   "nbconvert_exporter": "python",
   "pygments_lexer": "ipython3",
   "version": "3.10.0"
  }
 },
 "nbformat": 4,
 "nbformat_minor": 5
}
