{
 "cells": [
  {
   "cell_type": "markdown",
   "id": "c4696fae",
   "metadata": {},
   "source": [
    "# Task 3\n",
    "<br>\n",
    "\n",
    "## Problem 2"
   ]
  },
  {
   "cell_type": "code",
   "execution_count": 42,
   "id": "e6212d3d",
   "metadata": {},
   "outputs": [],
   "source": [
    "import pandas as pd \n",
    "from task3 import *"
   ]
  },
  {
   "cell_type": "markdown",
   "id": "cdf90f6c",
   "metadata": {},
   "source": [
    "### load cardio train data"
   ]
  },
  {
   "cell_type": "code",
   "execution_count": 26,
   "id": "adbc7dc2",
   "metadata": {},
   "outputs": [],
   "source": [
    "data = pd.read_csv(\"cardio_train.csv\", sep = \";\")\n",
    "data_train = data.iloc[0:6300,1:]\n",
    "data_test =  data.iloc[6300:7000,1:]"
   ]
  },
  {
   "cell_type": "markdown",
   "id": "9b72d97a",
   "metadata": {},
   "source": [
    "### Training the data\n",
    "\n",
    "```\n",
    "train_data(data,func,max_depth)\n",
    "\n",
    "```\n",
    "data: the dataframe of the training data in which the last column in the output <br> \n",
    "func: can be gini_impurity or entropy <br>\n",
    "max_depth: is the max depth of the decision tree <br>\n",
    "\n",
    "the method returns a dict of the tree"
   ]
  },
  {
   "cell_type": "markdown",
   "id": "421fe068",
   "metadata": {},
   "source": [
    "#### Training the data using Gini impurity."
   ]
  },
  {
   "cell_type": "code",
   "execution_count": 9,
   "id": "1d332907",
   "metadata": {},
   "outputs": [],
   "source": [
    "gini_tree = train_data(data_train , gini_impurity,max_depth= 10)"
   ]
  },
  {
   "cell_type": "markdown",
   "id": "3bca5647",
   "metadata": {},
   "source": [
    "#### Training the data using Entropy."
   ]
  },
  {
   "cell_type": "code",
   "execution_count": 10,
   "id": "679a8afd",
   "metadata": {},
   "outputs": [],
   "source": [
    "entropy_tree = train_data(data_train , entropy,max_depth= 10)"
   ]
  },
  {
   "cell_type": "markdown",
   "id": "01726a35",
   "metadata": {},
   "source": [
    "### Training the data\n",
    "\n",
    "```\n",
    "predict(data,tree)\n",
    "\n",
    "```\n",
    "data: the dataframe of the testing data <br> \n",
    "tree: is the output of the train_data method <br>\n",
    "\n",
    "the method returns a list of the predicted values"
   ]
  },
  {
   "cell_type": "code",
   "execution_count": 43,
   "id": "447aad78",
   "metadata": {},
   "outputs": [
    {
     "ename": "NameError",
     "evalue": "name 'predict_all' is not defined",
     "output_type": "error",
     "traceback": [
      "\u001b[1;31m---------------------------------------------------------------------------\u001b[0m",
      "\u001b[1;31mNameError\u001b[0m                                 Traceback (most recent call last)",
      "\u001b[1;32mC:\\Users\\AHMEDE~1\\AppData\\Local\\Temp/ipykernel_3208/256340840.py\u001b[0m in \u001b[0;36m<module>\u001b[1;34m\u001b[0m\n\u001b[1;32m----> 1\u001b[1;33m \u001b[0mgini_predicted_values\u001b[0m \u001b[1;33m=\u001b[0m \u001b[0mpredict_all\u001b[0m\u001b[1;33m(\u001b[0m\u001b[0mdata_test\u001b[0m\u001b[1;33m,\u001b[0m \u001b[0mgini_tree\u001b[0m\u001b[1;33m)\u001b[0m\u001b[1;33m\u001b[0m\u001b[1;33m\u001b[0m\u001b[0m\n\u001b[0m",
      "\u001b[1;31mNameError\u001b[0m: name 'predict_all' is not defined"
     ]
    }
   ],
   "source": [
    "gini_predicted_values = predict(data_test, gini_tree)"
   ]
  },
  {
   "cell_type": "code",
   "execution_count": 32,
   "id": "d4b638ea",
   "metadata": {},
   "outputs": [
    {
     "name": "stdout",
     "output_type": "stream",
     "text": [
      "57.14285714285714 %\n"
     ]
    }
   ],
   "source": [
    "values = []\n",
    "for i in range(len(data_test)):\n",
    "    values.append(predict_singel_value(data_test.iloc[i,:-1],gini_tree))\n",
    "\n",
    "print((list(values == data_test.iloc[:,-1]).count(1)/len(values)) * 100,\"%\")"
   ]
  },
  {
   "cell_type": "code",
   "execution_count": null,
   "id": "86c04568",
   "metadata": {},
   "outputs": [],
   "source": []
  },
  {
   "cell_type": "code",
   "execution_count": null,
   "id": "171d8f0d",
   "metadata": {},
   "outputs": [],
   "source": []
  }
 ],
 "metadata": {
  "kernelspec": {
   "display_name": "Python 3 (ipykernel)",
   "language": "python",
   "name": "python3"
  },
  "language_info": {
   "codemirror_mode": {
    "name": "ipython",
    "version": 3
   },
   "file_extension": ".py",
   "mimetype": "text/x-python",
   "name": "python",
   "nbconvert_exporter": "python",
   "pygments_lexer": "ipython3",
   "version": "3.10.0"
  }
 },
 "nbformat": 4,
 "nbformat_minor": 5
}
