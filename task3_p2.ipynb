{
 "cells": [
  {
   "cell_type": "markdown",
   "id": "990d2a42",
   "metadata": {},
   "source": [
    "# Task 3\n",
    "<br>\n",
    "\n",
    "## Problem 2"
   ]
  },
  {
   "cell_type": "code",
   "execution_count": 1,
   "id": "ec7f8001",
   "metadata": {},
   "outputs": [],
   "source": [
    "import pandas as pd \n",
    "from task3 import *"
   ]
  },
  {
   "cell_type": "markdown",
   "id": "21773683",
   "metadata": {},
   "source": [
    "### load cardio train data"
   ]
  },
  {
   "cell_type": "code",
   "execution_count": 2,
   "id": "22fcb4f3",
   "metadata": {},
   "outputs": [],
   "source": [
    "data = pd.read_csv(\"cardio_train.csv\", sep = \";\")\n",
    "data_train = data.iloc[0:6300,1:]\n",
    "data_test =  data.iloc[6300:7000,1:]"
   ]
  },
  {
   "cell_type": "markdown",
   "id": "4428604c",
   "metadata": {},
   "source": [
    "### Training the data\n",
    "\n",
    "```\n",
    "train_data(data,func,max_depth)\n",
    "\n",
    "```\n",
    "data: the dataframe of the training data in which the last column in the output <br> \n",
    "func: can be gini_impurity or entropy <br>\n",
    "max_depth: is the max depth of the decision tree <br>\n",
    "\n",
    "the method returns a dict of the tree"
   ]
  },
  {
   "cell_type": "markdown",
   "id": "f2061ea7",
   "metadata": {},
   "source": [
    "#### Training the data using Gini impurity."
   ]
  },
  {
   "cell_type": "code",
   "execution_count": 3,
   "id": "afbdcd7a",
   "metadata": {},
   "outputs": [],
   "source": [
    "gini_tree = train_data(data_train , gini_impurity,max_depth= 10)"
   ]
  },
  {
   "cell_type": "markdown",
   "id": "b5696365",
   "metadata": {},
   "source": [
    "#### Training the data using Entropy."
   ]
  },
  {
   "cell_type": "code",
   "execution_count": 4,
   "id": "4b09faf7",
   "metadata": {},
   "outputs": [],
   "source": [
    "entropy_tree = train_data(data_train , entropy,max_depth= 10)"
   ]
  },
  {
   "cell_type": "markdown",
   "id": "ac215591",
   "metadata": {},
   "source": [
    "### testing the data\n",
    "\n",
    "```\n",
    "predict(data,tree)\n",
    "\n",
    "```\n",
    "data: the dataframe of the testing data <br> \n",
    "tree: is the output of the train_data method <br>\n",
    "\n",
    "the method returns a list of the predicted values"
   ]
  },
  {
   "cell_type": "markdown",
   "id": "d8d331c2",
   "metadata": {},
   "source": [
    "### testing the data with Gini impurity model."
   ]
  },
  {
   "cell_type": "code",
   "execution_count": 7,
   "id": "a9d03938",
   "metadata": {},
   "outputs": [],
   "source": [
    "gini_predicted_values = predict(data_test.iloc[:,:-1], gini_tree)"
   ]
  },
  {
   "cell_type": "code",
   "execution_count": 8,
   "id": "e575a2a7",
   "metadata": {},
   "outputs": [
    {
     "data": {
      "text/plain": [
       "0.5714285714285714"
      ]
     },
     "execution_count": 8,
     "metadata": {},
     "output_type": "execute_result"
    }
   ],
   "source": [
    "get_accuracy(gini_predicted_values,data_test.iloc[:,-1])"
   ]
  },
  {
   "cell_type": "markdown",
   "id": "19daa86a",
   "metadata": {},
   "source": [
    "### testing the data with Entropy model."
   ]
  },
  {
   "cell_type": "code",
   "execution_count": 10,
   "id": "ef288eae",
   "metadata": {},
   "outputs": [],
   "source": [
    "entropy_predicted_values = predict(data_test.iloc[:,:-1], entropy_tree)"
   ]
  },
  {
   "cell_type": "code",
   "execution_count": 11,
   "id": "eaaa9ff3",
   "metadata": {},
   "outputs": [
    {
     "data": {
      "text/plain": [
       "0.5714285714285714"
      ]
     },
     "execution_count": 11,
     "metadata": {},
     "output_type": "execute_result"
    }
   ],
   "source": [
    "get_accuracy(entropy_predicted_values,data_test.iloc[:,-1])"
   ]
  }
 ],
 "metadata": {
  "kernelspec": {
   "display_name": "Python 3 (ipykernel)",
   "language": "python",
   "name": "python3"
  },
  "language_info": {
   "codemirror_mode": {
    "name": "ipython",
    "version": 3
   },
   "file_extension": ".py",
   "mimetype": "text/x-python",
   "name": "python",
   "nbconvert_exporter": "python",
   "pygments_lexer": "ipython3",
   "version": "3.10.0"
  }
 },
 "nbformat": 4,
 "nbformat_minor": 5
}
